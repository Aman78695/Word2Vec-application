{
  "nbformat": 4,
  "nbformat_minor": 0,
  "metadata": {
    "colab": {
      "provenance": [],
      "authorship_tag": "ABX9TyO3qgFQV5+ww4IVuVYs5xj4",
      "include_colab_link": true
    },
    "kernelspec": {
      "name": "python3",
      "display_name": "Python 3"
    },
    "language_info": {
      "name": "python"
    }
  },
  "cells": [
    {
      "cell_type": "markdown",
      "metadata": {
        "id": "view-in-github",
        "colab_type": "text"
      },
      "source": [
        "<a href=\"https://colab.research.google.com/github/Aman78695/Word2Vec-application/blob/main/Copy_of_Word2Vec_application_on_text_to_extract_vectors_of_each_word_similar_to_each_other.ipynb\" target=\"_parent\"><img src=\"https://colab.research.google.com/assets/colab-badge.svg\" alt=\"Open In Colab\"/></a>"
      ]
    },
    {
      "cell_type": "code",
      "execution_count": null,
      "metadata": {
        "id": "t2nJ3f1jXl5j"
      },
      "outputs": [],
      "source": [
        "import pandas as pd"
      ]
    },
    {
      "cell_type": "code",
      "source": [
        "df1=pd.read_csv('/content/001ssb.txt',sep='\\+')"
      ],
      "metadata": {
        "colab": {
          "base_uri": "https://localhost:8080/"
        },
        "id": "cRyTWg5oXwQ-",
        "outputId": "6bdf527f-e2fe-49a9-9f03-1230937b3359"
      },
      "execution_count": null,
      "outputs": [
        {
          "output_type": "stream",
          "name": "stderr",
          "text": [
            "/usr/local/lib/python3.8/dist-packages/pandas/util/_decorators.py:311: ParserWarning: Falling back to the 'python' engine because the 'c' engine does not support regex separators (separators > 1 char and different from '\\s+' are interpreted as regex); you can avoid this warning by specifying engine='python'.\n",
            "  return func(*args, **kwargs)\n"
          ]
        }
      ]
    },
    {
      "cell_type": "code",
      "source": [
        "df2=pd.read_csv('/content/002ssb.txt',sep='\\+')"
      ],
      "metadata": {
        "colab": {
          "base_uri": "https://localhost:8080/"
        },
        "id": "Gmay6jFjeInn",
        "outputId": "9898ffbf-de41-473d-d74e-be84bf3e4888"
      },
      "execution_count": null,
      "outputs": [
        {
          "output_type": "stream",
          "name": "stderr",
          "text": [
            "/usr/local/lib/python3.8/dist-packages/pandas/util/_decorators.py:311: ParserWarning: Falling back to the 'python' engine because the 'c' engine does not support regex separators (separators > 1 char and different from '\\s+' are interpreted as regex); you can avoid this warning by specifying engine='python'.\n",
            "  return func(*args, **kwargs)\n"
          ]
        }
      ]
    },
    {
      "cell_type": "code",
      "source": [
        "df3=pd.read_csv('/content/003ssb.txt',sep='\\+')"
      ],
      "metadata": {
        "colab": {
          "base_uri": "https://localhost:8080/"
        },
        "id": "M3Mc9HYaeR0Z",
        "outputId": "659cf370-de5a-41e1-cd6c-d4a5d1c7a8bd"
      },
      "execution_count": null,
      "outputs": [
        {
          "output_type": "stream",
          "name": "stderr",
          "text": [
            "/usr/local/lib/python3.8/dist-packages/pandas/util/_decorators.py:311: ParserWarning: Falling back to the 'python' engine because the 'c' engine does not support regex separators (separators > 1 char and different from '\\s+' are interpreted as regex); you can avoid this warning by specifying engine='python'.\n",
            "  return func(*args, **kwargs)\n"
          ]
        }
      ]
    },
    {
      "cell_type": "code",
      "source": [
        "df4=pd.read_csv('/content/004ssb.txt',sep='\\+', encoding='cp1252')"
      ],
      "metadata": {
        "colab": {
          "base_uri": "https://localhost:8080/"
        },
        "id": "2VjC-nsFgWYB",
        "outputId": "cf4e99c6-9565-431d-ae5a-b299b42810c9"
      },
      "execution_count": null,
      "outputs": [
        {
          "output_type": "stream",
          "name": "stderr",
          "text": [
            "/usr/local/lib/python3.8/dist-packages/pandas/util/_decorators.py:311: ParserWarning: Falling back to the 'python' engine because the 'c' engine does not support regex separators (separators > 1 char and different from '\\s+' are interpreted as regex); you can avoid this warning by specifying engine='python'.\n",
            "  return func(*args, **kwargs)\n"
          ]
        }
      ]
    },
    {
      "cell_type": "code",
      "source": [
        "df5=pd.read_csv('/content/005ssb.txt',sep='\\+', encoding='cp1252')"
      ],
      "metadata": {
        "id": "ZItM_dqbefC3"
      },
      "execution_count": null,
      "outputs": []
    },
    {
      "cell_type": "code",
      "source": [
        "ls=[]\n",
        "for i in range(0,19597):\n",
        "  ls.append(df1['A Game Of Thrones'][i])\n"
      ],
      "metadata": {
        "id": "UU2EKTunYuR3"
      },
      "execution_count": null,
      "outputs": []
    },
    {
      "cell_type": "code",
      "source": [
        "for i in range(0,22267):\n",
        "  ls.append(df2['A Clash of Kings'][i])"
      ],
      "metadata": {
        "id": "wVvinU98g-am"
      },
      "execution_count": null,
      "outputs": []
    },
    {
      "cell_type": "code",
      "source": [
        "for i in range(0,28648):\n",
        "  ls.append(df3['A Storm Of Swords'][i])"
      ],
      "metadata": {
        "id": "oh0Pk2jahWVU"
      },
      "execution_count": null,
      "outputs": []
    },
    {
      "cell_type": "code",
      "source": [
        "for i in range(0,22017):\n",
        "  ls.append(df4['Version History:'][i])"
      ],
      "metadata": {
        "id": "LAaobj4nhrcK"
      },
      "execution_count": null,
      "outputs": []
    },
    {
      "cell_type": "code",
      "source": [
        "for i in range(0,28536):\n",
        "  ls.append(df5['George R. R. Martin'][i])"
      ],
      "metadata": {
        "id": "lni2hU_5h_L9"
      },
      "execution_count": null,
      "outputs": []
    },
    {
      "cell_type": "code",
      "source": [
        "ls"
      ],
      "metadata": {
        "id": "Gsg89E8BZPDv"
      },
      "execution_count": null,
      "outputs": []
    },
    {
      "cell_type": "code",
      "source": [
        "import gensim"
      ],
      "metadata": {
        "id": "a1pSHOBjZovX"
      },
      "execution_count": null,
      "outputs": []
    },
    {
      "cell_type": "code",
      "source": [
        "import nltk\n",
        "nltk.download('punkt')"
      ],
      "metadata": {
        "colab": {
          "base_uri": "https://localhost:8080/"
        },
        "id": "v3lu_iwhafUG",
        "outputId": "3ef3797a-0f82-4567-d3f7-dcb4f488394a"
      },
      "execution_count": null,
      "outputs": [
        {
          "output_type": "stream",
          "name": "stderr",
          "text": [
            "[nltk_data] Downloading package punkt to /root/nltk_data...\n",
            "[nltk_data]   Package punkt is already up-to-date!\n"
          ]
        },
        {
          "output_type": "execute_result",
          "data": {
            "text/plain": [
              "True"
            ]
          },
          "metadata": {},
          "execution_count": 63
        }
      ]
    },
    {
      "cell_type": "code",
      "source": [
        "from nltk import sent_tokenize\n",
        "from gensim.utils import simple_preprocess #it simply preprocess whole text"
      ],
      "metadata": {
        "id": "IrRgQculZsUm"
      },
      "execution_count": null,
      "outputs": []
    },
    {
      "cell_type": "code",
      "source": [
        "sentence_list=sent_tokenize(str(ls))"
      ],
      "metadata": {
        "id": "UbZGe90UaXKE"
      },
      "execution_count": null,
      "outputs": []
    },
    {
      "cell_type": "code",
      "source": [
        "ls1=[]\n",
        "for sent in sentence_list:\n",
        "  ls1.append(simple_preprocess(sent))"
      ],
      "metadata": {
        "id": "nt_7F3XKa_td"
      },
      "execution_count": null,
      "outputs": []
    },
    {
      "cell_type": "code",
      "source": [
        "ls1"
      ],
      "metadata": {
        "id": "QBJ89ABfbOsc"
      },
      "execution_count": null,
      "outputs": []
    },
    {
      "cell_type": "code",
      "source": [
        "#default length of vectors for each word formed is 100 dimensional\n",
        "model=gensim.models.Word2Vec(window=10, #finding no of inputs left and right and target\n",
        "                             min_count=2, #selecting those sentence wth min 2 words\n",
        "                             )"
      ],
      "metadata": {
        "id": "ra09SzIEblkM"
      },
      "execution_count": null,
      "outputs": []
    },
    {
      "cell_type": "code",
      "source": [
        "#selecting vocab\n",
        "model.build_vocab(ls1)"
      ],
      "metadata": {
        "id": "t5nq7aDicLK_"
      },
      "execution_count": null,
      "outputs": []
    },
    {
      "cell_type": "code",
      "source": [
        "model.accuracy"
      ],
      "metadata": {
        "colab": {
          "base_uri": "https://localhost:8080/"
        },
        "id": "S3hMIFFa0933",
        "outputId": "d782d9e3-f120-471a-9ed4-0de06da4542b"
      },
      "execution_count": null,
      "outputs": [
        {
          "output_type": "execute_result",
          "data": {
            "text/plain": [
              "<bound method Word2Vec.accuracy of <gensim.models.word2vec.Word2Vec object at 0x7fb0c1b460d0>>"
            ]
          },
          "metadata": {},
          "execution_count": 76
        }
      ]
    },
    {
      "cell_type": "code",
      "source": [
        "model.train(ls1,total_examples=model.corpus_count,epochs=model.epochs)"
      ],
      "metadata": {
        "colab": {
          "base_uri": "https://localhost:8080/"
        },
        "id": "6grahzZtcgQV",
        "outputId": "38269b54-501a-4a02-bd8d-aefd17969ff0"
      },
      "execution_count": null,
      "outputs": [
        {
          "output_type": "execute_result",
          "data": {
            "text/plain": [
              "(6569516, 8628125)"
            ]
          },
          "metadata": {},
          "execution_count": 71
        }
      ]
    },
    {
      "cell_type": "code",
      "source": [
        "model.wv.most_similar('boy')"
      ],
      "metadata": {
        "colab": {
          "base_uri": "https://localhost:8080/"
        },
        "id": "60fMq2fYc1qH",
        "outputId": "cbb951d4-eaed-4e57-8d4a-1582e01d3fc3"
      },
      "execution_count": null,
      "outputs": [
        {
          "output_type": "execute_result",
          "data": {
            "text/plain": [
              "[('girl', 0.7478500604629517),\n",
              " ('child', 0.663620114326477),\n",
              " ('lad', 0.6473039388656616),\n",
              " ('monster', 0.6406298875808716),\n",
              " ('fool', 0.6326428651809692),\n",
              " ('prince', 0.6267870664596558),\n",
              " ('dwarf', 0.6234326958656311),\n",
              " ('wolf', 0.6211671829223633),\n",
              " ('man', 0.6159859895706177),\n",
              " ('woman', 0.6071425676345825)]"
            ]
          },
          "metadata": {},
          "execution_count": 73
        }
      ]
    },
    {
      "cell_type": "code",
      "source": [
        "model.wv.similar_by_word('boy')"
      ],
      "metadata": {
        "colab": {
          "base_uri": "https://localhost:8080/"
        },
        "id": "v8hinEyGzqBi",
        "outputId": "428e5ef1-782a-4b97-8d91-b9c8af3fe34a"
      },
      "execution_count": null,
      "outputs": [
        {
          "output_type": "execute_result",
          "data": {
            "text/plain": [
              "[('girl', 0.7478500604629517),\n",
              " ('child', 0.663620114326477),\n",
              " ('lad', 0.6473039388656616),\n",
              " ('monster', 0.6406298875808716),\n",
              " ('fool', 0.6326428651809692),\n",
              " ('prince', 0.6267870664596558),\n",
              " ('dwarf', 0.6234326958656311),\n",
              " ('wolf', 0.6211671829223633),\n",
              " ('man', 0.6159859895706177),\n",
              " ('woman', 0.6071425676345825)]"
            ]
          },
          "metadata": {},
          "execution_count": 74
        }
      ]
    }
  ]
}